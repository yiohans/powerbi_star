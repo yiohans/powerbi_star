{
 "cells": [
  {
   "cell_type": "markdown",
   "metadata": {},
   "source": [
    "### Setting up URL and file"
   ]
  },
  {
   "cell_type": "code",
   "execution_count": 42,
   "metadata": {},
   "outputs": [],
   "source": [
    "# URL of the file you want to download\n",
    "url = 'https://cdn.tse.jus.br/estatistica/sead/odsele/votacao_candidato_munzona/votacao_candidato_munzona_2022.zip'\n",
    "# The local path where you want to save the file\n",
    "workdir = './work/'\n",
    "parquetdir = './parquet/'\n",
    "destfile = 'votacao_candidato_munzona_2022.zip'"
   ]
  },
  {
   "cell_type": "markdown",
   "metadata": {},
   "source": [
    "### Downloading data"
   ]
  },
  {
   "cell_type": "code",
   "execution_count": 43,
   "metadata": {},
   "outputs": [
    {
     "data": {
      "text/plain": [
       "('./work/votacao_candidato_munzona_2022.zip',\n",
       " <http.client.HTTPMessage at 0x7f526afae290>)"
      ]
     },
     "execution_count": 43,
     "metadata": {},
     "output_type": "execute_result"
    }
   ],
   "source": [
    "import urllib.request\n",
    "\n",
    "# Create folder\n",
    "import os\n",
    "folder_is_created = os.path.exists(workdir)\n",
    "\n",
    "if not folder_is_created:\n",
    "  os.mkdir(workdir)\n",
    "\n",
    "# Download the file from `url` and save it locally\n",
    "urllib.request.urlretrieve(url, os.path.join(workdir, destfile))"
   ]
  },
  {
   "cell_type": "markdown",
   "metadata": {},
   "source": [
    "### Unziping data"
   ]
  },
  {
   "cell_type": "code",
   "execution_count": 44,
   "metadata": {},
   "outputs": [],
   "source": [
    "source_csv = 'votacao_candidato_munzona_2022_BRASIL.csv'\n",
    "from zipfile import ZipFile\n",
    "import os\n",
    "with ZipFile(os.path.join(workdir, destfile), 'r') as zObject: \n",
    "  \n",
    "    # Extracting all the members of the zip  \n",
    "    # into a specific location. \n",
    "    zObject.extract(source_csv, os.path.join(workdir, 'extracted'))\n",
    "    \n",
    "# extracted_file = workdir +'extracted/'+source_csv\n",
    "extracted_file = os.path.join(workdir, 'extracted', source_csv)"
   ]
  }
 ],
 "metadata": {
  "kernelspec": {
   "display_name": "Python 3 (ipykernel)",
   "language": "python",
   "name": "python3"
  },
  "language_info": {
   "codemirror_mode": {
    "name": "ipython",
    "version": 3
   },
   "file_extension": ".py",
   "mimetype": "text/x-python",
   "name": "python",
   "nbconvert_exporter": "python",
   "pygments_lexer": "ipython3",
   "version": "3.10.11"
  }
 },
 "nbformat": 4,
 "nbformat_minor": 2
}
