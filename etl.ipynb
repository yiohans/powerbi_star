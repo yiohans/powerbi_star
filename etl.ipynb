{
 "cells": [
  {
   "cell_type": "markdown",
   "metadata": {},
   "source": [
    "### Setting up URL and file"
   ]
  },
  {
   "cell_type": "code",
   "execution_count": null,
   "metadata": {},
   "outputs": [],
   "source": [
    "# URL of the file you want to download\n",
    "url = 'https://cdn.tse.jus.br/estatistica/sead/odsele/votacao_candidato_munzona/votacao_candidato_munzona_2022.zip'\n",
    "# The local path where you want to save the file\n",
    "file = './work/votacao_candidato_munzona_2022.zip'"
   ]
  },
  {
   "cell_type": "markdown",
   "metadata": {},
   "source": [
    "### Downloading data"
   ]
  },
  {
   "cell_type": "code",
   "execution_count": null,
   "metadata": {},
   "outputs": [],
   "source": [
    "import urllib.request\n",
    "\n",
    "# Download the file from `url` and save it locally under `file_path`\n",
    "# urllib.request.urlretrieve(url, file)"
   ]
  },
  {
   "cell_type": "markdown",
   "metadata": {},
   "source": [
    "### Unziping data"
   ]
  },
  {
   "cell_type": "code",
   "execution_count": null,
   "metadata": {},
   "outputs": [],
   "source": [
    "source_csv = \"votacao_candidato_munzona_2022_SP.csv\"\n",
    "from zipfile import ZipFile\n",
    "with ZipFile(file, 'r') as zObject: \n",
    "  \n",
    "    # Extracting all the members of the zip  \n",
    "    # into a specific location. \n",
    "    zObject.extract(source_csv,\"./work/extracted\")\n",
    "extracted_file = \"./work/extracted/\"+source_csv"
   ]
  },
  {
   "cell_type": "markdown",
   "metadata": {},
   "source": [
    "### Creating Spark session"
   ]
  },
  {
   "cell_type": "code",
   "execution_count": null,
   "metadata": {},
   "outputs": [],
   "source": [
    "from pyspark.sql import SparkSession\n",
    "\n",
    "# Create a SparkSession\n",
    "spark = SparkSession.builder.appName(\"spark\").getOrCreate()"
   ]
  },
  {
   "cell_type": "markdown",
   "metadata": {},
   "source": [
    "### Defining relevant columns"
   ]
  },
  {
   "cell_type": "code",
   "execution_count": null,
   "metadata": {},
   "outputs": [],
   "source": [
    "relevant_columns=[\n",
    "\"NR_TURNO\",\n",
    "\"DS_ELEICAO\",\n",
    "\"TP_ABRANGENCIA\",\n",
    "\"SG_UF\",\n",
    "\"NM_MUNICIPIO\",\n",
    "\"NR_ZONA\",\n",
    "\"DS_CARGO\",\n",
    "\"NR_CANDIDATO\",\n",
    "\"NM_CANDIDATO\",\n",
    "\"NM_URNA_CANDIDATO\",\n",
    "\"DS_SITUACAO_CANDIDATURA\",\n",
    "\"NR_PARTIDO\",\n",
    "\"SG_PARTIDO\",\n",
    "\"NM_PARTIDO\",\n",
    "\"NM_COLIGACAO\",\n",
    "\"DS_COMPOSICAO_COLIGACAO\",\n",
    "\"ST_VOTO_EM_TRANSITO\",\n",
    "\"QT_VOTOS_NOMINAIS\",\n",
    "\"NM_TIPO_DESTINACAO_VOTOS\",\n",
    "\"QT_VOTOS_NOMINAIS_VALIDOS\",\n",
    "\"DS_SIT_TOT_TURNO\"\n",
    "]"
   ]
  },
  {
   "cell_type": "markdown",
   "metadata": {},
   "source": [
    "### Reading file"
   ]
  },
  {
   "cell_type": "code",
   "execution_count": null,
   "metadata": {},
   "outputs": [],
   "source": [
    "df = spark.read.options(header=\"true\", inferSchema=True, delimiter=\";\", encoding=\"ISO-8859-1\").csv(extracted_file)\n",
    "selected_columns_df = df.select(relevant_columns)"
   ]
  },
  {
   "cell_type": "markdown",
   "metadata": {},
   "source": [
    "### Printing first lines"
   ]
  },
  {
   "cell_type": "code",
   "execution_count": null,
   "metadata": {},
   "outputs": [],
   "source": [
    "selected_columns_df.show()"
   ]
  },
  {
   "cell_type": "markdown",
   "metadata": {},
   "source": [
    "### Closing the Spark session"
   ]
  },
  {
   "cell_type": "code",
   "execution_count": null,
   "metadata": {},
   "outputs": [],
   "source": [
    "spark.stop()"
   ]
  }
 ],
 "metadata": {
  "kernelspec": {
   "display_name": "Python 3 (ipykernel)",
   "language": "python",
   "name": "python3"
  },
  "language_info": {
   "codemirror_mode": {
    "name": "ipython",
    "version": 3
   },
   "file_extension": ".py",
   "mimetype": "text/x-python",
   "name": "python",
   "nbconvert_exporter": "python",
   "pygments_lexer": "ipython3",
   "version": "3.11.7"
  }
 },
 "nbformat": 4,
 "nbformat_minor": 2
}
