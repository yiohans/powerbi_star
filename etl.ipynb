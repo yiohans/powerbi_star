{
 "cells": [
  {
   "cell_type": "markdown",
   "metadata": {},
   "source": [
    "### Setting up URL and file"
   ]
  },
  {
   "cell_type": "code",
   "execution_count": null,
   "metadata": {},
   "outputs": [],
   "source": [
    "# URL of the file you want to download\n",
    "url = 'https://cdn.tse.jus.br/estatistica/sead/odsele/votacao_candidato_munzona/votacao_candidato_munzona_2022.zip'\n",
    "# The local path where you want to save the file\n",
    "file = './work/votacao_candidato_munzona_2022.zip'"
   ]
  },
  {
   "cell_type": "markdown",
   "metadata": {},
   "source": [
    "### Downloading data"
   ]
  },
  {
   "cell_type": "code",
   "execution_count": null,
   "metadata": {},
   "outputs": [],
   "source": [
    "import urllib.request\n",
    "\n",
    "# Download the file from `url` and save it locally under `file_path`\n",
    "# urllib.request.urlretrieve(url, file)"
   ]
  },
  {
   "cell_type": "markdown",
   "metadata": {},
   "source": [
    "### Unziping data"
   ]
  },
  {
   "cell_type": "code",
   "execution_count": 13,
   "metadata": {},
   "outputs": [],
   "source": [
    "source_csv = \"votacao_candidato_munzona_2022_SP.csv\"\n",
    "from zipfile import ZipFile\n",
    "with ZipFile(file, 'r') as zObject: \n",
    "  \n",
    "    # Extracting all the members of the zip  \n",
    "    # into a specific location. \n",
    "    zObject.extract(source_csv,\"./work/extracted\")\n",
    "extracted_file = \"./work/extracted/\"+source_csv"
   ]
  },
  {
   "cell_type": "markdown",
   "metadata": {},
   "source": [
    "### Creating Spark session"
   ]
  },
  {
   "cell_type": "code",
   "execution_count": 27,
   "metadata": {},
   "outputs": [],
   "source": [
    "from pyspark.sql import SparkSession\n",
    "\n",
    "# Create a SparkSession\n",
    "spark = SparkSession.builder.appName(\"spark\").getOrCreate()"
   ]
  },
  {
   "cell_type": "markdown",
   "metadata": {},
   "source": [
    "### Defining relevant columns"
   ]
  },
  {
   "cell_type": "code",
   "execution_count": 74,
   "metadata": {},
   "outputs": [],
   "source": [
    "relevant_columns=[\n",
    "\"NR_TURNO\",\n",
    "\"DS_ELEICAO\",\n",
    "\"TP_ABRANGENCIA\",\n",
    "\"SG_UF\",\n",
    "\"NM_MUNICIPIO\",\n",
    "\"NR_ZONA\",\n",
    "\"DS_CARGO\",\n",
    "\"NR_CANDIDATO\",\n",
    "\"NM_CANDIDATO\",\n",
    "\"NM_URNA_CANDIDATO\",\n",
    "\"DS_SITUACAO_CANDIDATURA\",\n",
    "\"NR_PARTIDO\",\n",
    "\"SG_PARTIDO\",\n",
    "\"NM_PARTIDO\",\n",
    "\"NM_COLIGACAO\",\n",
    "\"DS_COMPOSICAO_COLIGACAO\",\n",
    "\"ST_VOTO_EM_TRANSITO\",\n",
    "\"QT_VOTOS_NOMINAIS\",\n",
    "\"NM_TIPO_DESTINACAO_VOTOS\",\n",
    "\"QT_VOTOS_NOMINAIS_VALIDOS\",\n",
    "\"DS_SIT_TOT_TURNO\"\n",
    "]"
   ]
  },
  {
   "cell_type": "markdown",
   "metadata": {},
   "source": [
    "### Reading file"
   ]
  },
  {
   "cell_type": "code",
   "execution_count": 75,
   "metadata": {},
   "outputs": [],
   "source": [
    "df = spark.read.options(header=\"true\", inferSchema=True, delimiter=\";\", encoding=\"ISO-8859-1\").csv(extracted_file)\n",
    "selected_columns_df = df.select(relevant_columns)"
   ]
  },
  {
   "cell_type": "markdown",
   "metadata": {},
   "source": [
    "### Printing first lines"
   ]
  },
  {
   "cell_type": "code",
   "execution_count": 76,
   "metadata": {},
   "outputs": [
    {
     "name": "stdout",
     "output_type": "stream",
     "text": [
      "+--------+--------------------+--------------+-----+-----------------+-------+-----------------+------------+--------------------+--------------------+-----------------------+----------+-------------+--------------------+---------------+-----------------------+-------------------+-----------------+------------------------+-------------------------+----------------+\n",
      "|NR_TURNO|          DS_ELEICAO|TP_ABRANGENCIA|SG_UF|     NM_MUNICIPIO|NR_ZONA|         DS_CARGO|NR_CANDIDATO|        NM_CANDIDATO|   NM_URNA_CANDIDATO|DS_SITUACAO_CANDIDATURA|NR_PARTIDO|   SG_PARTIDO|          NM_PARTIDO|   NM_COLIGACAO|DS_COMPOSICAO_COLIGACAO|ST_VOTO_EM_TRANSITO|QT_VOTOS_NOMINAIS|NM_TIPO_DESTINACAO_VOTOS|QT_VOTOS_NOMINAIS_VALIDOS|DS_SIT_TOT_TURNO|\n",
      "+--------+--------------------+--------------+-----+-----------------+-------+-----------------+------------+--------------------+--------------------+-----------------------+----------+-------------+--------------------+---------------+-----------------------+-------------------+-----------------+------------------------+-------------------------+----------------+\n",
      "|       1|Eleições Gerais E...|             E|   SP|         LOUVEIRA|    345|Deputado Estadual|       14121|ROBERTO CARLOS DE...|RC ROBERTO CARLOS...|                   APTO|        14|          PTB|Partido Trabalhis...|PARTIDO ISOLADO|                    PTB|                  N|                2|                  Válido|                        2|      NÃO ELEITO|\n",
      "|       1|Eleições Gerais E...|             E|   SP|         ITIRAPUÃ|     46| Deputado Federal|        7020|FABIANA OLIVEIRA ...|             FABIANA|                   APTO|        70|       AVANTE|              AVANTE|PARTIDO ISOLADO|                 AVANTE|                  N|                0|                  Válido|                        0|      NÃO ELEITO|\n",
      "|       1|Eleições Gerais E...|             E|   SP|            MAGDA|    162| Deputado Federal|        5505|       EMERSON KAPAZ|       EMERSON KAPAZ|                   APTO|        55|          PSD|Partido Social De...|PARTIDO ISOLADO|                    PSD|                  N|                0|                  Válido|                        0|        SUPLENTE|\n",
      "|       1|Eleições Gerais E...|             E|   SP|           IGUAPE|     51| Deputado Federal|        5529|FERNANDA FERREIRA...|     FERNANDA ARAÚJO|                   APTO|        55|          PSD|Partido Social De...|PARTIDO ISOLADO|                    PSD|                  N|                0|                  Válido|                        0|        SUPLENTE|\n",
      "|       1|Eleições Gerais E...|             E|   SP|  RIBEIRÃO BONITO|    107| Deputado Federal|        5527|  KALED ALI EL MALAT|         KALED MALAT|                   APTO|        55|          PSD|Partido Social De...|PARTIDO ISOLADO|                    PSD|                  N|                0|                  Válido|                        0|        SUPLENTE|\n",
      "|       1|Eleições Gerais E...|             E|   SP|        IGARAPAVA|     50|Deputado Estadual|       43090| JOANA DARQUE DA PAZ|ENFERMEIRA JOANA PAZ|                   APTO|        43|           PV|       Partido Verde|      FEDERAÇÃO|      PT / PV / PC do B|                  N|                1|                  Válido|                        1|        SUPLENTE|\n",
      "|       1|Eleições Gerais E...|             E|   SP|           ARARAS|     14|Deputado Estadual|       35789|VALDIRENE SANTOS ...|                KUKA|                   APTO|        35|          PMB|Partido da Mulher...|PARTIDO ISOLADO|                    PMB|                  N|                0|                  Válido|                        0|      NÃO ELEITO|\n",
      "|       1|Eleições Gerais E...|             E|   SP| IGARAÇU DO TIETÊ|    200|Deputado Estadual|       70777|     WALTER CAVEANHA|     WALTER CAVEANHA|                   APTO|        70|       AVANTE|              AVANTE|PARTIDO ISOLADO|                 AVANTE|                  N|                0|                  Válido|                        0|      NÃO ELEITO|\n",
      "|       1|Eleições Gerais E...|             E|   SP|REDENÇÃO DA SERRA|    128|Deputado Estadual|       70029|LOREDANA NOCITO S...|           DRA LORES|                   APTO|        70|       AVANTE|              AVANTE|PARTIDO ISOLADO|                 AVANTE|                  N|                0|                  Válido|                        0|      NÃO ELEITO|\n",
      "|       1|Eleições Gerais E...|             E|   SP|          ORIENTE|    180|Deputado Estadual|       10980|PAULO AUGUSTO LEI...|     CORONEL MOTOOKA|                   APTO|        10| REPUBLICANOS|        REPUBLICANOS|PARTIDO ISOLADO|           REPUBLICANOS|                  N|                0|                  Válido|                        0|        SUPLENTE|\n",
      "|       1|Eleições Gerais E...|             E|   SP|           SANTOS|    273|Deputado Estadual|       55844|    JOSE CARLOS ADAO|                ADÃO|                   APTO|        55|          PSD|Partido Social De...|PARTIDO ISOLADO|                    PSD|                  N|                0|                  Válido|                        0|        SUPLENTE|\n",
      "|       1|Eleições Gerais E...|             E|   SP|        BORBOREMA|     55| Deputado Federal|        9009|ROMÉRIO MOURA DA ...|             ROMÁRIO|                   APTO|        90|         PROS|Partido Republica...|PARTIDO ISOLADO|                   PROS|                  N|                0|                  Válido|                        0|      NÃO ELEITO|\n",
      "|       1|Eleições Gerais E...|             E|   SP|         SOROCABA|    271|Deputado Estadual|       51222|SANDRA DELMIRO DE...|      SANDRA DELMIRO|                   APTO|        51|     PATRIOTA|            Patriota|PARTIDO ISOLADO|               PATRIOTA|                  N|                1|                  Válido|                        1|      NÃO ELEITO|\n",
      "|       1|Eleições Gerais E...|             E|   SP|          ATIBAIA|     16| Deputado Federal|        4505|GUILHERME DE SOUZ...|     GUILHERME GOMES|                   APTO|        45|         PSDB|Partido da Social...|      FEDERAÇÃO|       CIDADANIA / PSDB|                  N|                1|                  Válido|                        1|        SUPLENTE|\n",
      "|       1|Eleições Gerais E...|             E|   SP|           SUZANO|    181|Deputado Estadual|       12888|CRISTIANE AQUINO ...|    CRISTIANE AQUINO|                   APTO|        12|          PDT|Partido Democráti...|PARTIDO ISOLADO|                    PDT|                  N|                5|                  Válido|                        5|        SUPLENTE|\n",
      "|       1|Eleições Gerais E...|             E|   SP|           SUZANO|    415| Deputado Federal|        7712|EDILAINE DANIEL C...|PROFESSORA LAINE ...|                   APTO|        77|SOLIDARIEDADE|       Solidariedade|PARTIDO ISOLADO|          SOLIDARIEDADE|                  N|                5|                  Válido|                        5|        SUPLENTE|\n",
      "|       1|Eleições Gerais E...|             E|   SP|  MOGI DAS CRUZES|    319|Deputado Estadual|       33581|CLÁUDIO DE OLIVEI...|        CLÁUDIO NETO|                   APTO|        33|          PMN|Partido da Mobili...|PARTIDO ISOLADO|                    PMN|                  N|                0|                  Válido|                        0|      NÃO ELEITO|\n",
      "|       1|Eleições Gerais E...|             E|   SP|         TREMEMBÉ|    314|Deputado Estadual|       36022|ROSIMEIRE SANTOS ...|        ROSI CESHINI|                   APTO|        36|         AGIR|                AGIR|PARTIDO ISOLADO|                   AGIR|                  N|                0|                  Válido|                        0|      NÃO ELEITO|\n",
      "|       1|Eleições Gerais E...|             E|   SP|           FRANCA|    291|Deputado Estadual|       90300|ARLINDO DE OLIVEI...|     ARLINDO CAMARGO|                   APTO|        90|         PROS|Partido Republica...|PARTIDO ISOLADO|                   PROS|                  N|                0|                  Válido|                        0|      NÃO ELEITO|\n",
      "|       1|Eleições Gerais E...|             E|   SP|        APARECIDA|    190| Deputado Federal|        1518|FABIO RINALDI MAN...|       FABIO MANZANO|                   APTO|        15|          MDB|Movimento Democrá...|PARTIDO ISOLADO|                    MDB|                  N|                1|                  Válido|                        1|        SUPLENTE|\n",
      "+--------+--------------------+--------------+-----+-----------------+-------+-----------------+------------+--------------------+--------------------+-----------------------+----------+-------------+--------------------+---------------+-----------------------+-------------------+-----------------+------------------------+-------------------------+----------------+\n",
      "only showing top 20 rows\n",
      "\n"
     ]
    }
   ],
   "source": [
    "selected_columns_df.show()"
   ]
  },
  {
   "cell_type": "markdown",
   "metadata": {},
   "source": [
    "### Closing the Spark session"
   ]
  },
  {
   "cell_type": "code",
   "execution_count": null,
   "metadata": {},
   "outputs": [],
   "source": [
    "spark.stop()"
   ]
  }
 ],
 "metadata": {
  "kernelspec": {
   "display_name": "Python 3 (ipykernel)",
   "language": "python",
   "name": "python3"
  },
  "language_info": {
   "codemirror_mode": {
    "name": "ipython",
    "version": 3
   },
   "file_extension": ".py",
   "mimetype": "text/x-python",
   "name": "python",
   "nbconvert_exporter": "python",
   "pygments_lexer": "ipython3",
   "version": "3.11.7"
  }
 },
 "nbformat": 4,
 "nbformat_minor": 2
}
