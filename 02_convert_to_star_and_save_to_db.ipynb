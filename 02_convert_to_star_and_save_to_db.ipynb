{
 "cells": [
  {
   "cell_type": "markdown",
   "metadata": {},
   "source": [
    "### Setting up file paths"
   ]
  },
  {
   "cell_type": "code",
   "execution_count": 1,
   "metadata": {},
   "outputs": [],
   "source": [
    "workdir = './work/'\n",
    "parquetdir = './parquet/'\n",
    "source_csv = 'votacao_candidato_munzona_2022_BRASIL.csv'\n",
    "extracted_file = workdir +'extracted/'+source_csv"
   ]
  },
  {
   "cell_type": "markdown",
   "metadata": {},
   "source": [
    "### Creating Spark session"
   ]
  },
  {
   "cell_type": "code",
   "execution_count": 2,
   "metadata": {},
   "outputs": [
    {
     "name": "stderr",
     "output_type": "stream",
     "text": [
      "24/02/06 22:30:08 WARN Utils: Your hostname, suetham-workplace resolves to a loopback address: 127.0.1.1; using 192.168.1.172 instead (on interface wlo1)\n",
      "24/02/06 22:30:08 WARN Utils: Set SPARK_LOCAL_IP if you need to bind to another address\n",
      "Setting default log level to \"WARN\".\n",
      "To adjust logging level use sc.setLogLevel(newLevel). For SparkR, use setLogLevel(newLevel).\n",
      "24/02/06 22:30:09 WARN NativeCodeLoader: Unable to load native-hadoop library for your platform... using builtin-java classes where applicable\n"
     ]
    }
   ],
   "source": [
    "from pyspark.sql import SparkSession\n",
    "\n",
    "# Create a SparkSession\n",
    "spark_session = SparkSession.builder.appName('spark').getOrCreate()"
   ]
  },
  {
   "cell_type": "markdown",
   "metadata": {},
   "source": [
    "### Reading file"
   ]
  },
  {
   "cell_type": "code",
   "execution_count": 3,
   "metadata": {},
   "outputs": [],
   "source": [
    "from pyspark.sql.dataframe import DataFrame\n",
    "\n",
    "df: DataFrame = spark_session.read.options(header=\"true\", delimiter=\";\", encoding=\"ISO-8859-1\").csv(extracted_file)\n"
   ]
  },
  {
   "cell_type": "markdown",
   "metadata": {},
   "source": [
    "### Selecting relevant columns"
   ]
  },
  {
   "cell_type": "code",
   "execution_count": 4,
   "metadata": {},
   "outputs": [],
   "source": [
    "# Defining relevant columns\n",
    "relevant_columns=[\n",
    "    \"NR_TURNO\",\n",
    "    \"DS_ELEICAO\",\n",
    "    \"TP_ABRANGENCIA\",\n",
    "    \"SG_UF\",\n",
    "    \"NM_MUNICIPIO\",\n",
    "    \"NR_ZONA\",\n",
    "    \"DS_CARGO\",\n",
    "    \"NR_CANDIDATO\",\n",
    "    \"NM_CANDIDATO\",\n",
    "    \"NM_URNA_CANDIDATO\",\n",
    "    \"DS_SITUACAO_CANDIDATURA\",\n",
    "    \"NR_PARTIDO\",\n",
    "    \"SG_PARTIDO\",\n",
    "    \"NM_PARTIDO\",\n",
    "    \"NM_COLIGACAO\",\n",
    "    \"DS_COMPOSICAO_COLIGACAO\",\n",
    "    \"ST_VOTO_EM_TRANSITO\",\n",
    "    \"QT_VOTOS_NOMINAIS\",\n",
    "    \"NM_TIPO_DESTINACAO_VOTOS\",\n",
    "    \"QT_VOTOS_NOMINAIS_VALIDOS\",\n",
    "    \"DS_SIT_TOT_TURNO\"\n",
    "]\n",
    "\n",
    "# Selecting relevant columns\n",
    "selected_columns_df = df.select(relevant_columns)"
   ]
  },
  {
   "cell_type": "markdown",
   "metadata": {},
   "source": [
    "### Printing first lines"
   ]
  },
  {
   "cell_type": "code",
   "execution_count": 5,
   "metadata": {},
   "outputs": [
    {
     "name": "stdout",
     "output_type": "stream",
     "text": [
      "+--------+--------------------+--------------+-----+--------------------+-------+-----------------+------------+--------------------+--------------------+-----------------------+----------+-------------+--------------------+---------------+-----------------------+-------------------+-----------------+------------------------+-------------------------+----------------+\n",
      "|NR_TURNO|          DS_ELEICAO|TP_ABRANGENCIA|SG_UF|        NM_MUNICIPIO|NR_ZONA|         DS_CARGO|NR_CANDIDATO|        NM_CANDIDATO|   NM_URNA_CANDIDATO|DS_SITUACAO_CANDIDATURA|NR_PARTIDO|   SG_PARTIDO|          NM_PARTIDO|   NM_COLIGACAO|DS_COMPOSICAO_COLIGACAO|ST_VOTO_EM_TRANSITO|QT_VOTOS_NOMINAIS|NM_TIPO_DESTINACAO_VOTOS|QT_VOTOS_NOMINAIS_VALIDOS|DS_SIT_TOT_TURNO|\n",
      "+--------+--------------------+--------------+-----+--------------------+-------+-----------------+------------+--------------------+--------------------+-----------------------+----------+-------------+--------------------+---------------+-----------------------+-------------------+-----------------+------------------------+-------------------------+----------------+\n",
      "|       1|Eleições Gerais E...|             E|   MG| SÃO PEDRO DO SUAÇUÍ|    212|Deputado Estadual|       13192|GISELE CRISTINA M...|     GISELE DA SAÚDE|                   APTO|        13|           PT|Partido dos Traba...|      FEDERAÇÃO|      PT / PV / PC do B|                  N|                0|                  Válido|                        0|        SUPLENTE|\n",
      "|       1|Eleições Gerais E...|             E|   RS|    SÃO LUIZ GONZAGA|     52|Deputado Estadual|       19022|JULIO AGAPIO DA S...|        JULIO AGAPIO|                   APTO|        19|         PODE|             Podemos|PARTIDO ISOLADO|                   PODE|                  N|                1|                  Válido|                        1|        SUPLENTE|\n",
      "|       1|Eleições Gerais E...|             E|   SP|             RIFAINA|    155|Deputado Estadual|       19100|RICARDO LONGATTI ...|      RICARDO FRANÇA|                   APTO|        19|         PODE|             Podemos|PARTIDO ISOLADO|                   PODE|                  N|                1|                  Válido|                        1|   ELEITO POR QP|\n",
      "|       1|Eleições Gerais E...|             E|   MA|               ICATU|     31|Deputado Estadual|       18190|EUDIMILSON JOSE F...|   SARGENTO EDMILSON|                   APTO|        18|         REDE|Rede Sustentabili...|      FEDERAÇÃO|            REDE / PSOL|                  N|                2|                  Válido|                        2|      NÃO ELEITO|\n",
      "|       1|Eleições Gerais E...|             E|   MG|         FELIXLÂNDIA|    100|Deputado Estadual|       90800|FABIO DIAS QUEIRO...|               FABÃO|                   APTO|        90|         PROS|Partido Republica...|PARTIDO ISOLADO|                   PROS|                  N|                0|                  Válido|                        0|        SUPLENTE|\n",
      "|       1|Eleições Gerais E...|             E|   PB|   AREIA DE BARAÚNAS|     65| Deputado Federal|        7022|        VITAL FARIAS|        VITAL FARIAS|                   APTO|        70|       AVANTE|              AVANTE|PARTIDO ISOLADO|                 AVANTE|                  N|                0|                  Válido|                        0|      NÃO ELEITO|\n",
      "|       1|Eleições Gerais E...|             E|   BA|    FEIRA DE SANTANA|    155| Deputado Federal|        1314|ANAILDES CAMPOS SENA|            ANAILDES|                   APTO|        13|           PT|Partido dos Traba...|      FEDERAÇÃO|      PT / PV / PC do B|                  N|               21|                  Válido|                       21|        SUPLENTE|\n",
      "|       1|Eleições Gerais E...|             E|   RS|       ENGENHO VELHO|    146|Deputado Estadual|       51983|DARCI ALESSANDRO ...|      SANDRO MARQUES|                   APTO|        51|     PATRIOTA|            Patriota|PARTIDO ISOLADO|               PATRIOTA|                  N|                0|                  Válido|                        0|      NÃO ELEITO|\n",
      "|       1|Eleições Gerais E...|             E|   SC|          CAPÃO ALTO|    104|Deputado Estadual|       43333|        MÁRCIA HASSE|        MÁRCIA HASSE|                   APTO|        43|           PV|       Partido Verde|      FEDERAÇÃO|      PT / PV / PC do B|                  N|                0|                  Válido|                        0|        SUPLENTE|\n",
      "|       1|Eleições Gerais E...|             E|   SP|            ITÁPOLIS|     55|Deputado Estadual|       28200|JULIO CESAR FRANC...|SARGENTO JULIO CESAR|                   APTO|        28|         PRTB|Partido Renovador...|PARTIDO ISOLADO|                   PRTB|                  N|                0|                  Válido|                        0|      NÃO ELEITO|\n",
      "|       1|Eleições Gerais E...|             E|   SP|              COLINA|    178| Deputado Federal|        7727|LUIZ DE SOUZA ARRAES|         LUIZ ARRAES|                   APTO|        77|SOLIDARIEDADE|       Solidariedade|PARTIDO ISOLADO|          SOLIDARIEDADE|                  N|                0|                  Válido|                        0|        SUPLENTE|\n",
      "|       1|Eleições Gerais E...|             E|   SC|            CRICIÚMA|     98| Deputado Federal|        1400| RUI GODINHO DA MOTA|         RUI GODINHO|                   APTO|        14|          PTB|Partido Trabalhis...|PARTIDO ISOLADO|                    PTB|                  N|                1|                  Válido|                        1|      NÃO ELEITO|\n",
      "|       1|Eleições Gerais E...|             E|   MG|SANTA BÁRBARA DO ...|    240|Deputado Estadual|       50010|POLLYANA DO AMARA...|     POLLY DO AMARAL|                   APTO|        50|         PSOL|Partido Socialism...|      FEDERAÇÃO|            REDE / PSOL|                  N|                0|                  Válido|                        0|        SUPLENTE|\n",
      "|       1|Eleições Gerais E...|             E|   SP|          PIRACICABA|     93| Deputado Federal|        3650|ALLAN SERGIO NASC...|      ALLAN CARTEIRO|                   APTO|        36|         AGIR|                AGIR|PARTIDO ISOLADO|                   AGIR|                  N|                0|                  Válido|                        0|      NÃO ELEITO|\n",
      "|       1|Eleições Gerais E...|             E|   SC|            ARVOREDO|     61|Deputado Estadual|       11222|   FERNANDO CRUZETTA|   FERNANDO CRUZETTA|                   APTO|        11|           PP|       PROGRESSISTAS|PARTIDO ISOLADO|                     PP|                  N|                0|                  Válido|                        0|        SUPLENTE|\n",
      "|       1|Eleições Gerais E...|             E|   SC|               IÇARA|     79|Deputado Estadual|       11222|   FERNANDO CRUZETTA|   FERNANDO CRUZETTA|                   APTO|        11|           PP|       PROGRESSISTAS|PARTIDO ISOLADO|                     PP|                  N|               92|                  Válido|                       92|        SUPLENTE|\n",
      "|       1|Eleições Gerais E...|             E|   GO|  CARMO DO RIO VERDE|     76|Deputado Estadual|       13125|ELIAS D ANGELO BO...|      ELIAS D ANGELO|                   APTO|        13|           PT|Partido dos Traba...|      FEDERAÇÃO|      PT / PV / PC do B|                  N|               24|                  Válido|                       24|        SUPLENTE|\n",
      "|       1|Eleições Gerais E...|             E|   MG|             IBIRITÉ|    351|Deputado Estadual|       35431|REINALDO ROMUALDO...|      CHUCK REINALDO|                   APTO|        35|          PMB|Partido da Mulher...|PARTIDO ISOLADO|                    PMB|                  N|                0|                  Válido|                        0|      NÃO ELEITO|\n",
      "|       1|Eleições Gerais E...|             E|   GO|          VIANÓPOLIS|     31| Deputado Federal|        1455|JOSÉ FAGUNDES BAR...|    PR JOSÉ FAGUNDES|                   APTO|        14|          PTB|Partido Trabalhis...|PARTIDO ISOLADO|                    PTB|                  N|                0|                  Válido|                        0|      NÃO ELEITO|\n",
      "|       1|Eleições Gerais E...|             E|   BA|            COTEGIPE|     98| Deputado Federal|        7771|WANGLES GLICERIO ...|    GUINHO DA CONTEM|                   APTO|        77|SOLIDARIEDADE|       Solidariedade|PARTIDO ISOLADO|          SOLIDARIEDADE|                  N|                8|                  Válido|                        8|      NÃO ELEITO|\n",
      "+--------+--------------------+--------------+-----+--------------------+-------+-----------------+------------+--------------------+--------------------+-----------------------+----------+-------------+--------------------+---------------+-----------------------+-------------------+-----------------+------------------------+-------------------------+----------------+\n",
      "only showing top 20 rows\n",
      "\n"
     ]
    }
   ],
   "source": [
    "selected_columns_df.show()"
   ]
  },
  {
   "cell_type": "markdown",
   "metadata": {},
   "source": [
    "### Defining transformation functions"
   ]
  },
  {
   "cell_type": "code",
   "execution_count": 122,
   "metadata": {},
   "outputs": [],
   "source": [
    "import pyspark.sql.functions as F\n",
    "from typing import Dict, List\n",
    "from pyspark.sql.dataframe import DataFrame, Column\n",
    "\n",
    "def get_columns_list_from_dimension(dimension: Dict[str, List[str]]):\n",
    "    return [col for cols in dimension for col in cols]\n",
    "\n",
    "def get_table_name_and_records(dataframe: DataFrame, dimension_table_name_and_columns: Dict[str, List[str]]) -> List[tuple[str, DataFrame]]:\n",
    "    dimensions = []\n",
    "\n",
    "    for dimension_table_name, dimension_columns in dimension_table_name_and_columns:\n",
    "        dimension_records = dataframe.select(*dimension_columns).distinct()\n",
    "        surrogate_key_column_name = f\"sk_{dimension_table_name.replace('dim_', '')}\"\n",
    "\n",
    "        # add unique and increasing id to dimension (but not consecutive)\n",
    "        unique_and_increasing_id = F.monotonically_increasing_id()\n",
    "        dimension_records = dimension_records.withColumn(\n",
    "            surrogate_key_column_name,\n",
    "            unique_and_increasing_id\n",
    "        )\n",
    "\n",
    "        dimension_table_in_tuple = (dimension_table_name, dimension_records)\n",
    "\n",
    "        dimensions.append(dimension_table_in_tuple)\n",
    "    \n",
    "    return dimensions\n",
    "\n",
    "\n",
    "def transform_spark_dataframe_into_star_schema(\n",
    "    original_dataframe: DataFrame,\n",
    "    fact_columns: List[str]  = [\"col1\", \"col2\"],\n",
    "    fact_table_name = \"tabela_fato\",\n",
    "    mapping_dimension_columns: Dict[str, List[str]] = {'dim1':[\"col3\", \"col4\"], \"dim2\":[\"col5\", \"col6\"]},\n",
    "):\n",
    "    dimension_columns_separated_by_dimension = mapping_dimension_columns.values()\n",
    "\n",
    "    dimension_columns = get_columns_list_from_dimension(dimension_columns_separated_by_dimension)\n",
    "\n",
    "    columns_from_fact_and_dimension = fact_columns + dimension_columns\n",
    "\n",
    "    original_dataframe = original_dataframe.select(*columns_from_fact_and_dimension)\n",
    "\n",
    "    dimension_table_name_and_columns = mapping_dimension_columns.items()\n",
    "\n",
    "    dimensions = get_table_name_and_records(original_dataframe, dimension_table_name_and_columns)\n",
    "\n",
    "    # Substitui as colunas de dimensão pelo respectivo SK na tabela fato\n",
    "    # ------------------------------------------------------------------\n",
    "    for table_name, records in dimensions:\n",
    "        # join the dimension dataframe to the original dataframe\n",
    "        dimension_columns_by_dimension_from_dataframe = [\n",
    "            original_dataframe[column] == records[column]\n",
    "            for column in mapping_dimension_columns[table_name]\n",
    "        ]\n",
    "        # surrogate_key_column = [col for col in records.columns if \"sk\" in col][0]\n",
    "        \n",
    "        original_dataframe = original_dataframe.join(\n",
    "            records, \n",
    "            on=dimension_columns_by_dimension_from_dataframe,\n",
    "            how=\"left\"\n",
    "        )\n",
    "\n",
    "        # drop the original columns\n",
    "        original_dataframe = original_dataframe.drop(*mapping_dimension_columns[table_name])\n",
    "\n",
    "    fact_table = (fact_table_name, original_dataframe)\n",
    "    \n",
    "    return dimensions + [fact_table]"
   ]
  },
  {
   "cell_type": "markdown",
   "metadata": {},
   "source": [
    "### Executing transformation"
   ]
  },
  {
   "cell_type": "code",
   "execution_count": 123,
   "metadata": {},
   "outputs": [],
   "source": [
    "star_schema = transform_spark_dataframe_into_star_schema(\n",
    "    selected_columns_df,\n",
    "    fact_columns=[\"QT_VOTOS_NOMINAIS_VALIDOS\", \"QT_VOTOS_NOMINAIS\"],\n",
    "    fact_table_name=\"tabela_fato\",\n",
    "    mapping_dimension_columns={\n",
    "        'dim_municipio': [\"SG_UF\", \"NM_MUNICIPIO\"],\n",
    "        'dim_cargo': [\"DS_CARGO\"],\n",
    "        'dim_ds_eleicao':[\"DS_ELEICAO\"],\n",
    "        'dim_partido':[\"SG_PARTIDO\",\"NM_PARTIDO\", \"NR_PARTIDO\"],\n",
    "        'dim_candidato':[\"NM_CANDIDATO\", \"NR_CANDIDATO\", \"NM_URNA_CANDIDATO\"],\n",
    "        'dim_turno':[\"NR_TURNO\"],\n",
    "        'dim_tp_agrangencia':[\"TP_ABRANGENCIA\"],\n",
    "        'dim_zona':[\"NR_ZONA\"],\n",
    "        'dim_situacao_candidatura':[\"DS_SITUACAO_CANDIDATURA\"],\n",
    "        'dim_coligacao':[\"NM_COLIGACAO\", \"DS_COMPOSICAO_COLIGACAO\"],\n",
    "        \"dim_voto_transito\":[\"ST_VOTO_EM_TRANSITO\"],\n",
    "        'dim_situacaof_turno':[\"DS_SIT_TOT_TURNO\"],\n",
    "        'dim_destinacao_voto':[\"NM_TIPO_DESTINACAO_VOTOS\"]\n",
    "    },   \n",
    ")"
   ]
  },
  {
   "cell_type": "markdown",
   "metadata": {},
   "source": [
    "### Setting up connection parameters"
   ]
  },
  {
   "cell_type": "code",
   "execution_count": 19,
   "metadata": {},
   "outputs": [],
   "source": [
    "hostname_or_ip = \"dw\"\n",
    "port = \"5432\"\n",
    "db = \"star\"\n",
    "user = \"star\"\n",
    "password = \"star\"\n",
    "\n",
    "db_url = \"jdbc:postgresql://\" + hostname_or_ip + \":\" + port + \"/\" + db\n",
    "\n",
    "properties = {\n",
    "    \"user\": user,\n",
    "    \"password\": password,\n",
    "    \"driver\": \"org.postgresql.Driver\"\n",
    "}\n"
   ]
  },
  {
   "cell_type": "markdown",
   "metadata": {},
   "source": [
    "### Writing to DW"
   ]
  },
  {
   "cell_type": "code",
   "execution_count": 20,
   "metadata": {},
   "outputs": [
    {
     "name": "stdout",
     "output_type": "stream",
     "text": [
      "Writing dim_municipio to DW\n",
      "Writing dim_cargo to DW\n",
      "Writing dim_ds_eleicao to DW\n"
     ]
    }
   ],
   "source": [
    "for item in star_schema:\n",
    "    table_name, original_dataframe = item\n",
    "    print(f\"Writing {table_name} to DW\")\n",
    "    original_dataframe.write.jdbc(url=db_url, table=table_name, mode=\"overwrite\", properties=properties)"
   ]
  },
  {
   "cell_type": "markdown",
   "metadata": {},
   "source": [
    "### Cleaning up"
   ]
  },
  {
   "cell_type": "code",
   "execution_count": null,
   "metadata": {},
   "outputs": [],
   "source": [
    "# Stopping spark session\n",
    "# spark_session.stop()\n",
    "\n",
    "# Cleaning up files \n",
    "# Delete the directory and all its contents\n",
    "# import shutil\n",
    "\n",
    "# shutil.rmtree(workdir+'extracted/')"
   ]
  }
 ],
 "metadata": {
  "kernelspec": {
   "display_name": "Python 3 (ipykernel)",
   "language": "python",
   "name": "python3"
  },
  "language_info": {
   "codemirror_mode": {
    "name": "ipython",
    "version": 3
   },
   "file_extension": ".py",
   "mimetype": "text/x-python",
   "name": "python",
   "nbconvert_exporter": "python",
   "pygments_lexer": "ipython3",
   "version": "3.11.7"
  }
 },
 "nbformat": 4,
 "nbformat_minor": 2
}
