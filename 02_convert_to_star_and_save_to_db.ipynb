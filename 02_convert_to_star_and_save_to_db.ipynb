{
 "cells": [
  {
   "cell_type": "markdown",
   "metadata": {},
   "source": [
    "### Setting up file paths"
   ]
  },
  {
   "cell_type": "code",
   "execution_count": 1,
   "metadata": {},
   "outputs": [],
   "source": [
    "workdir = './work/'\n",
    "parquetdir = './parquet/'\n",
    "source_csv = 'votacao_candidato_munzona_2022_BRASIL.csv'\n",
    "extracted_file = workdir +'extracted/'+source_csv"
   ]
  },
  {
   "cell_type": "markdown",
   "metadata": {},
   "source": [
    "### Creating Spark session"
   ]
  },
  {
   "cell_type": "code",
   "execution_count": 2,
   "metadata": {},
   "outputs": [],
   "source": [
    "from pyspark.sql import SparkSession\n",
    "\n",
    "# Create a SparkSession\n",
    "spark_session = SparkSession.builder.appName('spark').getOrCreate()"
   ]
  },
  {
   "cell_type": "markdown",
   "metadata": {},
   "source": [
    "### Reading file"
   ]
  },
  {
   "cell_type": "code",
   "execution_count": 3,
   "metadata": {},
   "outputs": [],
   "source": [
    "df = spark_session.read.options(header=\"true\", delimiter=\";\", encoding=\"ISO-8859-1\").csv(extracted_file)"
   ]
  },
  {
   "cell_type": "markdown",
   "metadata": {},
   "source": [
    "### Selecting relevant columns"
   ]
  },
  {
   "cell_type": "code",
   "execution_count": 4,
   "metadata": {},
   "outputs": [],
   "source": [
    "# Defining relevant columns\n",
    "relevant_columns=[\n",
    "    \"NR_TURNO\",\n",
    "    \"DS_ELEICAO\",\n",
    "    \"TP_ABRANGENCIA\",\n",
    "    \"SG_UF\",\n",
    "    \"NM_MUNICIPIO\",\n",
    "    \"NR_ZONA\",\n",
    "    \"DS_CARGO\",\n",
    "    \"NR_CANDIDATO\",\n",
    "    \"NM_CANDIDATO\",\n",
    "    \"NM_URNA_CANDIDATO\",\n",
    "    \"DS_SITUACAO_CANDIDATURA\",\n",
    "    \"NR_PARTIDO\",\n",
    "    \"SG_PARTIDO\",\n",
    "    \"NM_PARTIDO\",\n",
    "    \"NM_COLIGACAO\",\n",
    "    \"DS_COMPOSICAO_COLIGACAO\",\n",
    "    \"ST_VOTO_EM_TRANSITO\",\n",
    "    \"QT_VOTOS_NOMINAIS\",\n",
    "    \"NM_TIPO_DESTINACAO_VOTOS\",\n",
    "    \"QT_VOTOS_NOMINAIS_VALIDOS\",\n",
    "    \"DS_SIT_TOT_TURNO\"\n",
    "]\n",
    "\n",
    "# Selecting relevant columns\n",
    "selected_columns_df = df.select(relevant_columns)"
   ]
  },
  {
   "cell_type": "markdown",
   "metadata": {},
   "source": [
    "### Printing first lines"
   ]
  },
  {
   "cell_type": "code",
   "execution_count": 5,
   "metadata": {},
   "outputs": [
    {
     "name": "stdout",
     "output_type": "stream",
     "text": [
      "+--------+--------------------+--------------+-----+--------------------+-------+-----------------+------------+--------------------+--------------------+-----------------------+----------+-------------+--------------------+---------------+-----------------------+-------------------+-----------------+------------------------+-------------------------+----------------+\n",
      "|NR_TURNO|          DS_ELEICAO|TP_ABRANGENCIA|SG_UF|        NM_MUNICIPIO|NR_ZONA|         DS_CARGO|NR_CANDIDATO|        NM_CANDIDATO|   NM_URNA_CANDIDATO|DS_SITUACAO_CANDIDATURA|NR_PARTIDO|   SG_PARTIDO|          NM_PARTIDO|   NM_COLIGACAO|DS_COMPOSICAO_COLIGACAO|ST_VOTO_EM_TRANSITO|QT_VOTOS_NOMINAIS|NM_TIPO_DESTINACAO_VOTOS|QT_VOTOS_NOMINAIS_VALIDOS|DS_SIT_TOT_TURNO|\n",
      "+--------+--------------------+--------------+-----+--------------------+-------+-----------------+------------+--------------------+--------------------+-----------------------+----------+-------------+--------------------+---------------+-----------------------+-------------------+-----------------+------------------------+-------------------------+----------------+\n",
      "|       1|Eleições Gerais E...|             E|   MG|      CÔNEGO MARINHO|    148| Deputado Federal|        3080|MARÇAL SERAFIM CÂ...|    PROFESSOR MARÇAL|                   APTO|        30|         NOVO|        Partido Novo|PARTIDO ISOLADO|                   NOVO|                  N|                0|                  Válido|                        0|      NÃO ELEITO|\n",
      "|       1|Eleições Gerais E...|             E|   RJ|       NOVA FRIBURGO|     26|Deputado Estadual|       55588|RICARDO DEMETRIO ...|DR. RICARDO PIMENTEL|                   APTO|        55|          PSD|Partido Social De...|PARTIDO ISOLADO|                    PSD|                  N|                6|                  Válido|                        6|        SUPLENTE|\n",
      "|       1|Eleições Gerais E...|             E|   SP|            MIRACATU|    218| Deputado Federal|        4008|PAULO JOSÉ RIBEIR...|CORONEL PAULO RIB...|                   APTO|        40|          PSB|Partido Socialist...|PARTIDO ISOLADO|                    PSB|                  N|                0|                  Válido|                        0|        SUPLENTE|\n",
      "|       1|Eleições Gerais E...|             E|   SP|           CHAVANTES|    313|Deputado Estadual|       50050|            INÊS PAZ|            INÊS PAZ|                   APTO|        50|         PSOL|Partido Socialism...|      FEDERAÇÃO|            REDE / PSOL|                  N|                0|                  Válido|                        0|        SUPLENTE|\n",
      "|       1|Eleições Gerais E...|             E|   RS|DILERMANDO DE AGUIAR|     81| Deputado Federal|        2023|TATIANA RHEINGANT...|       TATIANA ARMOS|                   APTO|        20|          PSC|Partido Social Cr...|PARTIDO ISOLADO|                    PSC|                  N|                0|                  Válido|                        0|      NÃO ELEITO|\n",
      "|       1|Eleições Gerais E...|             E|   SP|           RINÓPOLIS|    210|Deputado Estadual|       44363|TANIA CRISTINA FR...|        TÂNIA FRUCHI|                   APTO|        44|        UNIÃO|        UNIÃO BRASIL|PARTIDO ISOLADO|                  UNIÃO|                  N|              252|                  Válido|                      252|        SUPLENTE|\n",
      "|       1|Eleições Gerais E...|             E|   SP|             LUCÉLIA|     69| Deputado Federal|        4008|PAULO JOSÉ RIBEIR...|CORONEL PAULO RIB...|                   APTO|        40|          PSB|Partido Socialist...|PARTIDO ISOLADO|                    PSB|                  N|                1|                  Válido|                        1|        SUPLENTE|\n",
      "|       1|Eleições Gerais E...|             E|   MG|               TIROS|    254|Deputado Estadual|       20380|SÉRGIO RICARDO DA...|        SÉRGIO COSTA|                   APTO|        20|          PSC|Partido Social Cr...|PARTIDO ISOLADO|                    PSC|                  N|                0|                  Válido|                        0|        SUPLENTE|\n",
      "|       1|Eleições Gerais E...|             E|   MG|              POMPÉU|    223|Deputado Estadual|       77345|ROBERTO LUIZ FERRARI|     ROBERTO FERRARI|                   APTO|        77|SOLIDARIEDADE|       Solidariedade|PARTIDO ISOLADO|          SOLIDARIEDADE|                  N|                0|                  Válido|                        0|        SUPLENTE|\n",
      "|       1|Eleições Gerais E...|             E|   MG|          INDAIABIRA|    266|Deputado Estadual|       55123|WILSON ROBERTO BA...|DOUTOR WILSON BAT...|                   APTO|        55|          PSD|Partido Social De...|PARTIDO ISOLADO|                    PSD|                  N|                3|                  Válido|                        3|   ELEITO POR QP|\n",
      "|       1|Eleições Gerais E...|             E|   SP|          PEDREGULHO|    155|Deputado Estadual|       51551|PATRICIA ANDALAFT...|   PATRICIA ANDALAFT|                   APTO|        51|     PATRIOTA|            Patriota|PARTIDO ISOLADO|               PATRIOTA|                  N|                0|                  Válido|                        0|      NÃO ELEITO|\n",
      "|       1|Eleições Gerais E...|             E|   RS|    ESPERANÇA DO SUL|     86|Deputado Estadual|       43043|GABRIEL GONÇALVES...|ATIVISTA GABRIEL ...|                   APTO|        43|           PV|       Partido Verde|      FEDERAÇÃO|      PT / PV / PC do B|                  N|                0|                  Válido|                        0|        SUPLENTE|\n",
      "|       1|Eleições Gerais E...|             E|   SP|     ESTRELA D OESTE|    233| Deputado Federal|        1182|  MARCELO MORICKOCHI|DR MARCELO MORICK...|                   APTO|        11|           PP|       PROGRESSISTAS|PARTIDO ISOLADO|                     PP|                  N|                0|                  Válido|                        0|        SUPLENTE|\n",
      "|       1|Eleições Gerais E...|             E|   BA|             ITORORÓ|    137|Deputado Estadual|       44900|THEODULO DIAS DA ...|                THEO|                   APTO|        44|        UNIÃO|        UNIÃO BRASIL|PARTIDO ISOLADO|                  UNIÃO|                  N|                0|                  Válido|                        0|        SUPLENTE|\n",
      "|       1|Eleições Gerais E...|             E|   BA|            IBIRAPUÃ|    153|Deputado Estadual|       33555|JEFISE SILVA BARRETO|        FEFI BARRETO|                   APTO|        33|          PMN|Partido da Mobili...|PARTIDO ISOLADO|                    PMN|                  N|                0|                  Válido|                        0|      NÃO ELEITO|\n",
      "|       1|Eleições Gerais E...|             E|   SP|SANTA CRUZ DA CON...|    188|Deputado Estadual|       19013|LARISSA FORJANES ...|    LARISSA FORJANES|                   APTO|        19|         PODE|             Podemos|PARTIDO ISOLADO|                   PODE|                  N|                0|                  Válido|                        0|        SUPLENTE|\n",
      "|       1|Eleições Gerais E...|             E|   MG|           SEM PEIXE|     12| Deputado Federal|        1835|LUCAS CARVALHO DE...|        LUCAS ARRUDA|                   APTO|        18|         REDE|Rede Sustentabili...|      FEDERAÇÃO|            REDE / PSOL|                  N|                0|                  Válido|                        0|        SUPLENTE|\n",
      "|       1|Eleições Gerais E...|             E|   BA|SALINAS DA MARGARIDA|     30|Deputado Estadual|       11500|FABRICIO DA CRUZ ...|     FABRICIO BORGES|                   APTO|        11|           PP|       PROGRESSISTAS|PARTIDO ISOLADO|                     PP|                  N|                0|                  Válido|                        0|        SUPLENTE|\n",
      "|       1|Eleições Gerais E...|             E|   SP|      RIBEIRÃO PIRES|    183|Deputado Estadual|       20350|DOUGLAS VANDERLEI...|       PROF° DOUGLAS|                   APTO|        20|          PSC|Partido Social Cr...|PARTIDO ISOLADO|                    PSC|                  N|                1|                  Válido|                        1|        SUPLENTE|\n",
      "|       1|Eleições Gerais E...|             E|   SP|             BOCAINA|    241| Deputado Federal|        5017|MÁRCIO LEANDRO CE...|   MARCINHO BUCHECHA|                   APTO|        50|         PSOL|Partido Socialism...|      FEDERAÇÃO|            REDE / PSOL|                  N|                3|                  Válido|                        3|        SUPLENTE|\n",
      "+--------+--------------------+--------------+-----+--------------------+-------+-----------------+------------+--------------------+--------------------+-----------------------+----------+-------------+--------------------+---------------+-----------------------+-------------------+-----------------+------------------------+-------------------------+----------------+\n",
      "only showing top 20 rows\n",
      "\n"
     ]
    }
   ],
   "source": [
    "selected_columns_df.show()"
   ]
  },
  {
   "cell_type": "markdown",
   "metadata": {},
   "source": [
    "### Setting up connection parameters"
   ]
  },
  {
   "cell_type": "code",
   "execution_count": 15,
   "metadata": {},
   "outputs": [],
   "source": [
    "hostname_or_ip = \"dw\"\n",
    "port = \"5432\"\n",
    "db = \"star\"\n",
    "user = \"star\"\n",
    "password = \"password\"\n",
    "schema = \"star\"\n",
    "\n",
    "\n",
    "url = \"jdbc:postgresql://\" + hostname_or_ip + \":\" + port + \"/\" + db\n",
    "\n",
    "properties = {\n",
    "    \"user\": user,\n",
    "    \"password\": password,\n",
    "    \"driver\": \"org.postgresql.Driver\"\n",
    "}\n",
    "\n",
    "table = schema + \".star\""
   ]
  },
  {
   "cell_type": "markdown",
   "metadata": {},
   "source": [
    "### Writing to DW"
   ]
  },
  {
   "cell_type": "code",
   "execution_count": 16,
   "metadata": {},
   "outputs": [
    {
     "ename": "IllegalArgumentException",
     "evalue": "requirement failed: The driver could not open a JDBC connection. Check the URL: jbdc:postgresql://dw:5432/star",
     "output_type": "error",
     "traceback": [
      "\u001b[0;31m---------------------------------------------------------------------------\u001b[0m",
      "\u001b[0;31mIllegalArgumentException\u001b[0m                  Traceback (most recent call last)",
      "Cell \u001b[0;32mIn[16], line 1\u001b[0m\n\u001b[0;32m----> 1\u001b[0m \u001b[43mselected_columns_df\u001b[49m\u001b[38;5;241;43m.\u001b[39;49m\u001b[43mwrite\u001b[49m\u001b[38;5;241;43m.\u001b[39;49m\u001b[43mjdbc\u001b[49m\u001b[43m(\u001b[49m\u001b[43murl\u001b[49m\u001b[38;5;241;43m=\u001b[39;49m\u001b[43murl\u001b[49m\u001b[43m,\u001b[49m\u001b[43m \u001b[49m\u001b[43mtable\u001b[49m\u001b[38;5;241;43m=\u001b[39;49m\u001b[43mtable\u001b[49m\u001b[43m,\u001b[49m\u001b[43m \u001b[49m\u001b[43mmode\u001b[49m\u001b[38;5;241;43m=\u001b[39;49m\u001b[38;5;124;43m\"\u001b[39;49m\u001b[38;5;124;43moverwrite\u001b[39;49m\u001b[38;5;124;43m\"\u001b[39;49m\u001b[43m,\u001b[49m\u001b[43m \u001b[49m\u001b[43mproperties\u001b[49m\u001b[38;5;241;43m=\u001b[39;49m\u001b[43mproperties\u001b[49m\u001b[43m)\u001b[49m\n",
      "File \u001b[0;32m/usr/local/spark/python/pyspark/sql/readwriter.py:1984\u001b[0m, in \u001b[0;36mDataFrameWriter.jdbc\u001b[0;34m(self, url, table, mode, properties)\u001b[0m\n\u001b[1;32m   1982\u001b[0m \u001b[38;5;28;01mfor\u001b[39;00m k \u001b[38;5;129;01min\u001b[39;00m properties:\n\u001b[1;32m   1983\u001b[0m     jprop\u001b[38;5;241m.\u001b[39msetProperty(k, properties[k])\n\u001b[0;32m-> 1984\u001b[0m \u001b[38;5;28;43mself\u001b[39;49m\u001b[38;5;241;43m.\u001b[39;49m\u001b[43mmode\u001b[49m\u001b[43m(\u001b[49m\u001b[43mmode\u001b[49m\u001b[43m)\u001b[49m\u001b[38;5;241;43m.\u001b[39;49m\u001b[43m_jwrite\u001b[49m\u001b[38;5;241;43m.\u001b[39;49m\u001b[43mjdbc\u001b[49m\u001b[43m(\u001b[49m\u001b[43murl\u001b[49m\u001b[43m,\u001b[49m\u001b[43m \u001b[49m\u001b[43mtable\u001b[49m\u001b[43m,\u001b[49m\u001b[43m \u001b[49m\u001b[43mjprop\u001b[49m\u001b[43m)\u001b[49m\n",
      "File \u001b[0;32m/usr/local/spark/python/lib/py4j-0.10.9.7-src.zip/py4j/java_gateway.py:1322\u001b[0m, in \u001b[0;36mJavaMember.__call__\u001b[0;34m(self, *args)\u001b[0m\n\u001b[1;32m   1316\u001b[0m command \u001b[38;5;241m=\u001b[39m proto\u001b[38;5;241m.\u001b[39mCALL_COMMAND_NAME \u001b[38;5;241m+\u001b[39m\\\n\u001b[1;32m   1317\u001b[0m     \u001b[38;5;28mself\u001b[39m\u001b[38;5;241m.\u001b[39mcommand_header \u001b[38;5;241m+\u001b[39m\\\n\u001b[1;32m   1318\u001b[0m     args_command \u001b[38;5;241m+\u001b[39m\\\n\u001b[1;32m   1319\u001b[0m     proto\u001b[38;5;241m.\u001b[39mEND_COMMAND_PART\n\u001b[1;32m   1321\u001b[0m answer \u001b[38;5;241m=\u001b[39m \u001b[38;5;28mself\u001b[39m\u001b[38;5;241m.\u001b[39mgateway_client\u001b[38;5;241m.\u001b[39msend_command(command)\n\u001b[0;32m-> 1322\u001b[0m return_value \u001b[38;5;241m=\u001b[39m \u001b[43mget_return_value\u001b[49m\u001b[43m(\u001b[49m\n\u001b[1;32m   1323\u001b[0m \u001b[43m    \u001b[49m\u001b[43manswer\u001b[49m\u001b[43m,\u001b[49m\u001b[43m \u001b[49m\u001b[38;5;28;43mself\u001b[39;49m\u001b[38;5;241;43m.\u001b[39;49m\u001b[43mgateway_client\u001b[49m\u001b[43m,\u001b[49m\u001b[43m \u001b[49m\u001b[38;5;28;43mself\u001b[39;49m\u001b[38;5;241;43m.\u001b[39;49m\u001b[43mtarget_id\u001b[49m\u001b[43m,\u001b[49m\u001b[43m \u001b[49m\u001b[38;5;28;43mself\u001b[39;49m\u001b[38;5;241;43m.\u001b[39;49m\u001b[43mname\u001b[49m\u001b[43m)\u001b[49m\n\u001b[1;32m   1325\u001b[0m \u001b[38;5;28;01mfor\u001b[39;00m temp_arg \u001b[38;5;129;01min\u001b[39;00m temp_args:\n\u001b[1;32m   1326\u001b[0m     \u001b[38;5;28;01mif\u001b[39;00m \u001b[38;5;28mhasattr\u001b[39m(temp_arg, \u001b[38;5;124m\"\u001b[39m\u001b[38;5;124m_detach\u001b[39m\u001b[38;5;124m\"\u001b[39m):\n",
      "File \u001b[0;32m/usr/local/spark/python/pyspark/errors/exceptions/captured.py:185\u001b[0m, in \u001b[0;36mcapture_sql_exception.<locals>.deco\u001b[0;34m(*a, **kw)\u001b[0m\n\u001b[1;32m    181\u001b[0m converted \u001b[38;5;241m=\u001b[39m convert_exception(e\u001b[38;5;241m.\u001b[39mjava_exception)\n\u001b[1;32m    182\u001b[0m \u001b[38;5;28;01mif\u001b[39;00m \u001b[38;5;129;01mnot\u001b[39;00m \u001b[38;5;28misinstance\u001b[39m(converted, UnknownException):\n\u001b[1;32m    183\u001b[0m     \u001b[38;5;66;03m# Hide where the exception came from that shows a non-Pythonic\u001b[39;00m\n\u001b[1;32m    184\u001b[0m     \u001b[38;5;66;03m# JVM exception message.\u001b[39;00m\n\u001b[0;32m--> 185\u001b[0m     \u001b[38;5;28;01mraise\u001b[39;00m converted \u001b[38;5;28;01mfrom\u001b[39;00m \u001b[38;5;28;01mNone\u001b[39;00m\n\u001b[1;32m    186\u001b[0m \u001b[38;5;28;01melse\u001b[39;00m:\n\u001b[1;32m    187\u001b[0m     \u001b[38;5;28;01mraise\u001b[39;00m\n",
      "\u001b[0;31mIllegalArgumentException\u001b[0m: requirement failed: The driver could not open a JDBC connection. Check the URL: jbdc:postgresql://dw:5432/star"
     ]
    }
   ],
   "source": [
    "selected_columns_df.write.jdbc(url=url, table=table, mode=\"overwrite\", properties=properties)"
   ]
  },
  {
   "cell_type": "markdown",
   "metadata": {},
   "source": [
    "### Cleaning up"
   ]
  },
  {
   "cell_type": "code",
   "execution_count": null,
   "metadata": {},
   "outputs": [],
   "source": [
    "# Stopping spark session\n",
    "spark_session.stop()\n",
    "\n",
    "# Cleaning up files \n",
    "# Delete the directory and all its contents\n",
    "# import shutil\n",
    "\n",
    "# shutil.rmtree(workdir+'extracted/')"
   ]
  }
 ],
 "metadata": {
  "kernelspec": {
   "display_name": "Python 3 (ipykernel)",
   "language": "python",
   "name": "python3"
  },
  "language_info": {
   "codemirror_mode": {
    "name": "ipython",
    "version": 3
   },
   "file_extension": ".py",
   "mimetype": "text/x-python",
   "name": "python",
   "nbconvert_exporter": "python",
   "pygments_lexer": "ipython3",
   "version": "3.11.7"
  }
 },
 "nbformat": 4,
 "nbformat_minor": 2
}
